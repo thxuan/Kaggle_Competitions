{
 "cells": [
  {
   "cell_type": "code",
   "execution_count": 1,
   "id": "76a22568-c23f-4da9-8d39-c18c18239c88",
   "metadata": {},
   "outputs": [],
   "source": [
    "import numpy as np\n",
    "import pandas as pd\n",
    "import matplotlib.pyplot as plt\n",
    "%matplotlib inline \n",
    "\n",
    "from tensorflow.keras import callbacks,optimizers\n",
    "from tensorflow.keras.models import Sequential\n",
    "from tensorflow.keras.layers import Dense, Dropout,Conv2D, MaxPooling2D, Flatten,BatchNormalization\n",
    "from tensorflow.keras.preprocessing.image import ImageDataGenerator\n",
    "\n",
    "from sklearn.model_selection import KFold"
   ]
  },
  {
   "cell_type": "code",
   "execution_count": 10,
   "id": "138a4f61-32f5-4d0d-93e8-93099837c631",
   "metadata": {},
   "outputs": [],
   "source": [
    "train = pd.read_csv(\"../dataset/train.csv\")\n",
    "test = pd.read_csv(\"../dataset/test.csv\")\n",
    "\n",
    "X = ( train.iloc[:,1:].copy() ).astype('float32') / 255.0\n",
    "y = ( train.iloc[:,0].copy() ).astype('int32')\n",
    "X_test = ( test.copy() ).astype('float32') / 255.0\n",
    "\n",
    "X = X.to_numpy().reshape(-1, 28, 28, 1)\n",
    "X_test = X_test.to_numpy().reshape(-1, 28, 28, 1) "
   ]
  },
  {
   "cell_type": "code",
   "execution_count": 11,
   "id": "33a85d46-dbf5-4647-9040-8118530f54ac",
   "metadata": {},
   "outputs": [],
   "source": [
    "def build_model( input_shape, learning_rate ):\n",
    "    model = Sequential([\n",
    "        Conv2D(32, (3, 3), activation='relu', input_shape = input_shape ),\n",
    "        BatchNormalization(),\n",
    "        Conv2D(32, (3, 3), activation='relu'),\n",
    "        BatchNormalization(),\n",
    "        MaxPooling2D((2, 2)),\n",
    "        Dropout(0.25),\n",
    "    \n",
    "        Conv2D(64, (3, 3), activation='relu'),\n",
    "        BatchNormalization(),\n",
    "        Conv2D(64, (3, 3), activation='relu'),\n",
    "        BatchNormalization(),\n",
    "        MaxPooling2D((2, 2)),\n",
    "        Dropout(0.25),\n",
    "    \n",
    "        Flatten(),\n",
    "        Dense(256, activation='relu'),\n",
    "        BatchNormalization(),\n",
    "        Dropout(0.5),\n",
    "        Dense(10, activation='softmax')\n",
    "    ])\n",
    "\n",
    "    model.compile(\n",
    "        optimizer= optimizers.Adam(learning_rate = learning_rate),  \n",
    "        loss='sparse_categorical_crossentropy',\n",
    "        metrics=['accuracy']\n",
    "    )\n",
    "\n",
    "    return model"
   ]
  },
  {
   "cell_type": "code",
   "execution_count": 12,
   "id": "a3b081a2-e7fc-4dbb-8a63-e85b1fd07253",
   "metadata": {},
   "outputs": [],
   "source": [
    "def early_stopping_set(patience, min_delta):\n",
    "    \n",
    "    early_stopping = callbacks.EarlyStopping(\n",
    "    patience = patience, \n",
    "    min_delta = min_delta,\n",
    "    restore_best_weights = True,\n",
    "    )\n",
    "\n",
    "    return early_stopping"
   ]
  },
  {
   "cell_type": "code",
   "execution_count": 13,
   "id": "b84c03de-fec7-4d8a-8080-f3867d65ab61",
   "metadata": {},
   "outputs": [],
   "source": [
    "def data_generator_set(rotation_range, zoom_range, width_shift_range, height_shift_range):\n",
    "    datagen = ImageDataGenerator(\n",
    "        rotation_range = rotation_range,\n",
    "        zoom_range = zoom_range,\n",
    "        width_shift_range = width_shift_range, \n",
    "        height_shift_range = height_shift_range\n",
    "    )\n",
    "    return datagen"
   ]
  },
  {
   "cell_type": "code",
   "execution_count": 20,
   "id": "4bcda396-7044-4c58-b127-9a57b6cc2511",
   "metadata": {},
   "outputs": [],
   "source": [
    "def train_onefold(model, X_train, y_train, X_val, y_val, epoches, batch_size, early_stop_params, data_gen_params):\n",
    "    early_stopping = early_stopping_set(**early_stop_params)\n",
    "    \n",
    "    datagen = data_generator_set(**data_gen_params)\n",
    "    datagen.fit(X_train)\n",
    "    \n",
    "    history = model.fit(\n",
    "        datagen.flow(X_train, y_train, batch_size= 64),\n",
    "        epochs = epoches, \n",
    "        batch_size =batch_size, \n",
    "        validation_data = (X_val, y_val),\n",
    "        callbacks = [early_stopping]\n",
    "    )\n",
    "    return model"
   ]
  },
  {
   "cell_type": "code",
   "execution_count": 15,
   "id": "3aa966a6-dc61-4032-8ed7-ce0e52b4a613",
   "metadata": {},
   "outputs": [],
   "source": [
    "def train_k_fold(X, y, n_splits, shuffle, random_state, learning_rates, input_shape, model_train_params):\n",
    "    kf = KFold(n_splits=n_splits, shuffle=shuffle, random_state=random_state)\n",
    "    fold = 1\n",
    "    accuracies = []\n",
    "    test_predictions = []\n",
    "    learning_rates = learning_rates\n",
    "    input_shape = input_shape\n",
    "    for train_idx, val_idx in kf.split(X):\n",
    "        print(f\"training {fold} flod\")\n",
    "        X_train, X_val = X[train_idx], X[val_idx]\n",
    "        y_train, y_val = y[train_idx], y[val_idx]\n",
    "    \n",
    "        model = build_model( input_shape, learning_rates[ fold-1 ] )\n",
    "        trained_model = train_onefold( model, X_train, y_train, X_val, y_val, **model_train_params )\n",
    "    \n",
    "        test_pred = trained_model.predict(X_test)\n",
    "        test_predictions.append(test_pred)\n",
    "        scores = trained_model.evaluate(X_val, y_val, verbose=0)\n",
    "        print(f'fold{fold} accuracy: {scores[1]:.4f}')\n",
    "        accuracies.append(scores[1])\n",
    "        fold += 1\n",
    "    \n",
    "    print(f'{fold-1} folds mean accuracy: {np.mean(accuracies):.4f}')\n",
    "    return test_predictions"
   ]
  },
  {
   "cell_type": "code",
   "execution_count": 17,
   "id": "685bca44-0987-490e-8bfa-80fab7469723",
   "metadata": {},
   "outputs": [],
   "source": [
    "params = {\n",
    "    \"learning_rates\": [0.0008, 0.0004, 0.0008, 0.0006, 0.0003],\n",
    "    \"input_shape\": (28, 28, 1),\n",
    "    \n",
    "    \"model_train_params\":{\n",
    "        \"epoches\": 80, \n",
    "        \"batch_size\": 256,\n",
    "        \"early_stop_params\": {\n",
    "            \"patience\": 20, \n",
    "            \"min_delta\": 0.001,\n",
    "        },\n",
    "        \"data_gen_params\": {\n",
    "            \"rotation_range\": 10,\n",
    "            \"zoom_range\": 0.2,\n",
    "            \"width_shift_range\": 0.1,\n",
    "            \"height_shift_range\": 0.1,\n",
    "        },  \n",
    "    },\n",
    "}"
   ]
  },
  {
   "cell_type": "code",
   "execution_count": null,
   "id": "2b1c11e5-162d-4b15-8cd1-5c6726b0801b",
   "metadata": {},
   "outputs": [],
   "source": [
    "test_predictions = train_k_fold(X, y, 5, True, 42, **params)\n",
    "final_prediction = np.mean(test_predictions, axis=0)\n",
    "final_labels = np.argmax(final_prediction, axis=1)"
   ]
  },
  {
   "cell_type": "code",
   "execution_count": 19,
   "id": "ee4037dc-e212-4c10-a81b-011f790ee4aa",
   "metadata": {},
   "outputs": [],
   "source": [
    "submission = pd.DataFrame({\n",
    "    'ImageId': range(1, len(final_labels) + 1),\n",
    "    'Label': final_labels\n",
    "})\n",
    "\n",
    "submission.to_csv('submission_kfold_ensemble.csv', index=False)"
   ]
  },
  {
   "cell_type": "code",
   "execution_count": null,
   "id": "2bb67c5d-6345-4b60-840a-7eb92447e8d5",
   "metadata": {},
   "outputs": [],
   "source": []
  }
 ],
 "metadata": {
  "kernelspec": {
   "display_name": "Python 3 (ipykernel)",
   "language": "python",
   "name": "python3"
  },
  "language_info": {
   "codemirror_mode": {
    "name": "ipython",
    "version": 3
   },
   "file_extension": ".py",
   "mimetype": "text/x-python",
   "name": "python",
   "nbconvert_exporter": "python",
   "pygments_lexer": "ipython3",
   "version": "3.10.18"
  }
 },
 "nbformat": 4,
 "nbformat_minor": 5
}
