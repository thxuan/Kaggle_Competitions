{
 "cells": [
  {
   "cell_type": "code",
   "execution_count": 1,
   "id": "9b9715c6-7cff-4504-8c9d-b4d0687a53ab",
   "metadata": {},
   "outputs": [],
   "source": [
    "import numpy as np\n",
    "import pandas as pd\n",
    "\n",
    "from sklearn.base import BaseEstimator, TransformerMixin\n",
    "from sklearn.compose import ColumnTransformer\n",
    "from sklearn.preprocessing import FunctionTransformer\n",
    "from sklearn.pipeline import Pipeline\n",
    "from sklearn.preprocessing import OneHotEncoder, StandardScaler\n",
    "from sklearn.impute import SimpleImputer\n",
    "from sklearn.ensemble import StackingRegressor\n",
    "from sklearn.linear_model import RidgeCV\n",
    "from sklearn.ensemble import RandomForestRegressor\n",
    "\n",
    "from sklearn.model_selection import train_test_split\n",
    "from sklearn.linear_model import Lasso\n",
    "from sklearn.metrics import mean_squared_error\n",
    "from xgboost import XGBRegressor\n",
    "from sklearn.model_selection import cross_val_score\n"
   ]
  },
  {
   "cell_type": "code",
   "execution_count": 16,
   "id": "950f55ad-e434-498c-bc23-ba260e85a414",
   "metadata": {},
   "outputs": [],
   "source": [
    "X_full = pd.read_csv('../dataset/train.csv', index_col='Id')\n",
    "X_test_full = pd.read_csv('../dataset/test.csv', index_col='Id')\n",
    "\n",
    "X_test = X_test_full.copy()\n",
    "X = X_full.copy()\n",
    "y = X.pop('SalePrice')\n",
    "y = np.log1p(y)\n",
    "X_train, X_valid, y_train, y_valid = train_test_split(X, y, test_size=0.1, random_state=42)\n",
    "\n",
    "categorical_cols = [col for col in X_train.columns if X[col].dtype == \"object\"]\n",
    "numerical_cols = [col for col in X_train.columns if X[col].dtype in ['int64', 'float64']]"
   ]
  },
  {
   "cell_type": "code",
   "execution_count": 17,
   "id": "05d2ced6-ee4c-4f98-b867-210dd7a934f1",
   "metadata": {},
   "outputs": [],
   "source": [
    "estimators = [\n",
    "    ('xgb', XGBRegressor(n_estimators=2000, learning_rate=0.03, max_depth=3, subsample=0.9, colsample_bytree=0.7, random_state=42)),\n",
    "    ('rf', RandomForestRegressor(n_estimators=100, random_state=42)),\n",
    "    ('lasso', Lasso(alpha=0.0005, random_state=42))\n",
    "]\n",
    "\n",
    "stacking_model = StackingRegressor(\n",
    "    estimators=estimators,\n",
    "    final_estimator=RidgeCV(),  \n",
    "    cv=5,\n",
    "    n_jobs=-1\n",
    ")"
   ]
  },
  {
   "cell_type": "code",
   "execution_count": 18,
   "id": "9f93dfad-35b0-4717-9252-6c49ed4264e1",
   "metadata": {},
   "outputs": [],
   "source": [
    "class CustomDataCleaner(BaseEstimator, TransformerMixin):\n",
    "    def __init__(self, lotfrontage_median=0):\n",
    "        self.lotfrontage_median  = lotfrontage_median\n",
    "        \n",
    "    def fit(self, X, y=None):\n",
    "        self.lotfrontage_median = X.groupby('Neighborhood')['LotFrontage'].median()\n",
    "        return self\n",
    "        \n",
    "    def transform(self, X):\n",
    "        X = X.copy()\n",
    "        X['LotFrontage'] = X['LotFrontage'].fillna(X['Neighborhood'].map(self.lotfrontage_median))\n",
    "        return X"
   ]
  },
  {
   "cell_type": "code",
   "execution_count": 19,
   "id": "51575ec0-a332-4433-99c6-379bd422105b",
   "metadata": {},
   "outputs": [],
   "source": [
    "class RareLabelEncoder(BaseEstimator, TransformerMixin):\n",
    "    def __init__(self, threshold=0.01):\n",
    "        self.threshold = threshold\n",
    "        self.rare_labels = {}\n",
    "\n",
    "    def fit(self, X, y=None):\n",
    "        self.rare_labels = {}\n",
    "        cat_features = X.select_dtypes(include=['object']).columns\n",
    "\n",
    "        for col in cat_features:\n",
    "            freq = X[col].value_counts(normalize=True)\n",
    "            rare_cats = freq[freq < self.threshold].index\n",
    "            self.rare_labels[col] = rare_cats\n",
    "\n",
    "        return self\n",
    "\n",
    "    def transform(self, X):\n",
    "        X = X.copy()\n",
    "        for col, rare_cats in self.rare_labels.items():\n",
    "            X[col] = X[col].apply(lambda x: 'Rare' if x in rare_cats else x)\n",
    "        return X"
   ]
  },
  {
   "cell_type": "code",
   "execution_count": 20,
   "id": "924551ed-ed6b-4760-8167-1a72e952bd78",
   "metadata": {},
   "outputs": [],
   "source": [
    "class SkewnessTransformer(BaseEstimator, TransformerMixin):\n",
    "    def __init__(self, skew_threshold=0.75):\n",
    "        self.skew_threshold = skew_threshold\n",
    "        self.skewed_features = []\n",
    "\n",
    "    def fit(self, X, y=None):\n",
    "        numeric_feats = X.select_dtypes(include=['int64', 'float64']).columns\n",
    "        skewness = X[numeric_feats].apply(lambda x: x.skew()).sort_values(ascending=False)\n",
    "        self.skewed_features = skewness[abs(skewness) > self.skew_threshold].index.tolist()\n",
    "\n",
    "        return self\n",
    "\n",
    "    def transform(self, X):\n",
    "        X = X.copy()\n",
    "        for feature in self.skewed_features:\n",
    "            X[feature] = np.log1p(X[feature])  # log(1 + x)\n",
    "\n",
    "        return X"
   ]
  },
  {
   "cell_type": "code",
   "execution_count": 25,
   "id": "4ccd2da8-080d-4d73-abe2-8bc2d9f02117",
   "metadata": {},
   "outputs": [],
   "source": [
    "categorical_transformer = Pipeline(steps=[\n",
    "    ('imputer', SimpleImputer(fill_value='None',strategy='constant')),  \n",
    "    ('onehot', OneHotEncoder(handle_unknown='ignore'))     \n",
    "])\n",
    "\n",
    "numerical_transformer = Pipeline(steps=[\n",
    "    ('imputer', SimpleImputer( fill_value = 0))      \n",
    "])\n",
    "\n",
    "preprocessor = ColumnTransformer(transformers=[\n",
    "    ('num', numerical_transformer, numerical_cols),\n",
    "    ('cat', categorical_transformer, categorical_cols)\n",
    "])\n",
    "\n",
    "\n",
    "pipeline = Pipeline(steps=[\n",
    "    ('cleaner', CustomDataCleaner()),     \n",
    "    ('rare_label_encoder', RareLabelEncoder()),\n",
    "    ('skewness_transformer', SkewnessTransformer()),\n",
    "    ('preprocessor', preprocessor),       # One-hot Encoding\n",
    "    ('model', stacking_model)\n",
    "])\n"
   ]
  },
  {
   "cell_type": "code",
   "execution_count": 26,
   "id": "30b0db95-fba9-43bf-95de-821320e7bf38",
   "metadata": {},
   "outputs": [
    {
     "name": "stdout",
     "output_type": "stream",
     "text": [
      "Training completed!\n"
     ]
    }
   ],
   "source": [
    "pipeline.fit(X_train,y_train)\n",
    "print(\"Training completed!\")"
   ]
  },
  {
   "cell_type": "code",
   "execution_count": 27,
   "id": "483a4efb-b11f-430b-9eac-692dfb582185",
   "metadata": {},
   "outputs": [
    {
     "name": "stdout",
     "output_type": "stream",
     "text": [
      "RMSE: 0.0993\n",
      "Cross-Validation RMSE: 0.1174\n"
     ]
    }
   ],
   "source": [
    "y_pred = pipeline.predict(X_valid)\n",
    "rmse = np.sqrt(mean_squared_error(y_valid, y_pred))\n",
    "print(f\"RMSE: {rmse:.4f}\") \n",
    "scores = cross_val_score(pipeline, X, y, scoring='neg_root_mean_squared_error',cv=5)\n",
    "print(f\"Cross-Validation RMSE: {-scores.mean():.4f}\") "
   ]
  },
  {
   "cell_type": "code",
   "execution_count": 24,
   "id": "ee34de1e-abe3-4f2d-a77d-57c3fa99d2e5",
   "metadata": {},
   "outputs": [],
   "source": [
    "y_pred = pipeline.predict(X_test)\n",
    "y_pred = pd.Series(np.expm1(y_pred),index = X_test.index)\n",
    "y_pred.to_csv('submission.csv',header = ['SalePrice'])"
   ]
  },
  {
   "cell_type": "code",
   "execution_count": null,
   "id": "ed5d95ba-ffda-48fc-8a17-aac9b6d76919",
   "metadata": {},
   "outputs": [],
   "source": []
  }
 ],
 "metadata": {
  "kernelspec": {
   "display_name": "Python 3 (ipykernel)",
   "language": "python",
   "name": "python3"
  },
  "language_info": {
   "codemirror_mode": {
    "name": "ipython",
    "version": 3
   },
   "file_extension": ".py",
   "mimetype": "text/x-python",
   "name": "python",
   "nbconvert_exporter": "python",
   "pygments_lexer": "ipython3",
   "version": "3.10.18"
  }
 },
 "nbformat": 4,
 "nbformat_minor": 5
}
